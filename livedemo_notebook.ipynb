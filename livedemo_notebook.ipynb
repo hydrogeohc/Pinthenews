{
  "cells": [
    {
      "cell_type": "markdown",
      "metadata": {
        "id": "Z6KWb44H2q0u"
      },
      "source": [
        "# Live Demo Notebook for Pinthenews\n",
        "\n",
        "This notebook demonstrates how to use the core features of the [Pinthenews](https://github.com/hydrogeohc/Pinthenews) repository. Pinthenews is an interactive AI-powered tool for extracting and visualizing locations from news articles and text."
      ]
    },
    {
      "cell_type": "code",
      "metadata": {
        "id": "xf8l8XeK2q0w"
      },
      "outputs": [],
      "source": [
        "# Initial setup check\n",
        "import sys\n",
        "import os\n",
        "print(f\"Python version: {sys.version}\")\n",
        "print(f\"Current directory: {os.getcwd()}\")\n",
        "\n",
        "# Check if we're in the right directory\n",
        "if os.path.exists('requirements.txt'):\n",
        "    print(\"✅ Found requirements.txt\")\n",
        "else:\n",
        "    print(\"❌ requirements.txt not found - you may need to navigate to the Pinthenews directory\")"
      ],
      "execution_count": null
    },
    {
      "cell_type": "markdown",
      "source": [
        "## 1. Setup\n",
        "\n",
        "First, let's check our environment and set up the necessary dependencies."
      ],
      "metadata": {
        "id": "TWG1_yly2q0x"
      }
    },
    {
      "cell_type": "code",
      "source": [
        "# Install dependencies if needed\n",
        "import subprocess\n",
        "import sys\n",
        "\n",
        "def install_requirements():\n",
        "    \"\"\"Install requirements if not already installed\"\"\"\n",
        "    try:\n",
        "        subprocess.check_call([sys.executable, \"-m\", \"pip\", \"install\", \"-r\", \"requirements.txt\"])\n",
        "        print(\"✅ Dependencies installed successfully\")\n",
        "    except subprocess.CalledProcessError as e:\n",
        "        print(f\"❌ Error installing dependencies: {e}\")\n",
        "        return False\n",
        "    return True\n",
        "\n",
        "def check_env_file():\n",
        "    \"\"\"Check if .env file exists\"\"\"\n",
        "    if os.path.exists('.env'):\n",
        "        print(\"✅ Found .env file\")\n",
        "        return True\n",
        "    else:\n",
        "        print(\"⚠️  .env file not found\")\n",
        "        print(\"Please create a .env file with your Anthropic API key:\")\n",
        "        print(\"ANTHROPIC_API_KEY=your_api_key_here\")\n",
        "        return False\n",
        "\n",
        "# Run setup checks\n",
        "if os.path.exists('requirements.txt'):\n",
        "    install_requirements()\n",
        "    check_env_file()\n",
        "else:\n",
        "    print(\"Please ensure you're in the Pinthenews directory with requirements.txt\")"
      ],
      "metadata": {
        "id": "h2bJw4po2q0y"
      },
      "outputs": [],
      "execution_count": null
    },
    {
      "cell_type": "markdown",
      "source": [
        "## 2. Core Functionality Demo\n",
        "\n",
        "Now let's demonstrate the core features of Pinthenews."
      ],
      "metadata": {
        "id": "C8AUt9GE2q0y"
      }
    },
    {
      "cell_type": "code",
      "source": [
        "# Import the main modules\n",
        "try:\n",
        "    import sys\n",
        "    import os\n",
        "\n",
        "    # Add src directory to path if it exists\n",
        "    if os.path.exists('src'):\n",
        "        sys.path.insert(0, 'src')\n",
        "\n",
        "    # Try importing the main components\n",
        "    from src.location_extractor import LocationExtractor\n",
        "    from src.data_processor import DataProcessor\n",
        "    print(\"✅ Successfully imported Pinthenews modules\")\n",
        "\n",
        "except ImportError as e:\n",
        "    print(f\"❌ Import error: {e}\")\n",
        "    print(\"Make sure you're in the Pinthenews directory and dependencies are installed\")\n",
        "\n",
        "    # Fallback - show directory structure\n",
        "    print(\"\\nCurrent directory structure:\")\n",
        "    for item in os.listdir('.'):\n",
        "        if os.path.isdir(item):\n",
        "            print(f\"📁 {item}/\")\n",
        "        else:\n",
        "            print(f\"📄 {item}\")"
      ],
      "metadata": {
        "id": "8pmzf8AQ2q0y"
      },
      "outputs": [],
      "execution_count": null
    },
    {
      "cell_type": "code",
      "source": [
        "# Demo: Extract locations from sample text\n",
        "sample_text = \"\"\"\n",
        "Breaking news: A major earthquake struck near Tokyo, Japan, causing widespread damage.\n",
        "The tremor was also felt in nearby cities including Yokohama and Kawasaki.\n",
        "Emergency services are coordinating response efforts from headquarters in Shibuya.\n",
        "Meanwhile, international aid is being coordinated from offices in New York and London.\n",
        "\"\"\"\n",
        "\n",
        "try:\n",
        "    # Initialize the location extractor\n",
        "    extractor = LocationExtractor()\n",
        "\n",
        "    # Extract locations\n",
        "    locations = extractor.extract_locations(sample_text)\n",
        "\n",
        "    print(\"🌍 Extracted Locations:\")\n",
        "    for i, location in enumerate(locations, 1):\n",
        "        print(f\"{i}. {location}\")\n",
        "\n",
        "    if not locations:\n",
        "        print(\"No locations found. This might indicate an API or configuration issue.\")\n",
        "\n",
        "except Exception as e:\n",
        "    print(f\"❌ Error during location extraction: {e}\")\n",
        "    print(\"This is likely due to missing API key or configuration issues.\")\n",
        "\n",
        "    # Show fallback example\n",
        "    print(\"\\n📝 Example of what should be extracted:\")\n",
        "    print(\"1. Tokyo, Japan\")\n",
        "    print(\"2. Yokohama, Japan\")\n",
        "    print(\"3. Kawasaki, Japan\")\n",
        "    print(\"4. Shibuya, Japan\")\n",
        "    print(\"5. New York, USA\")\n",
        "    print(\"6. London, UK\")"
      ],
      "metadata": {
        "id": "PZOUhp6k2q0z"
      },
      "outputs": [],
      "execution_count": null
    },
    {
      "cell_type": "markdown",
      "source": [
        "## 3. Running the Web Interface\n",
        "\n",
        "You can also run the Streamlit web interface for an interactive experience."
      ],
      "metadata": {
        "id": "FTbj4svL2q0z"
      }
    },
    {
      "cell_type": "code",
      "source": [
        "# Check if Streamlit app exists and provide instructions\n",
        "import os\n",
        "\n",
        "if os.path.exists('src/app.py'):\n",
        "    print(\"✅ Streamlit app found!\")\n",
        "    print(\"\\nTo run the web interface:\")\n",
        "    print(\"1. Open a terminal\")\n",
        "    print(\"2. Navigate to the Pinthenews directory\")\n",
        "    print(\"3. Run: streamlit run src/app.py\")\n",
        "    print(\"4. Open your browser to the provided URL (usually http://localhost:8501)\")\n",
        "\n",
        "elif os.path.exists('app.py'):\n",
        "    print(\"✅ Streamlit app found!\")\n",
        "    print(\"\\nTo run the web interface:\")\n",
        "    print(\"1. Open a terminal\")\n",
        "    print(\"2. Navigate to the Pinthenews directory\")\n",
        "    print(\"3. Run: streamlit run app.py\")\n",
        "    print(\"4. Open your browser to the provided URL (usually http://localhost:8501)\")\n",
        "\n",
        "else:\n",
        "    print(\"⚠️  Streamlit app not found in expected locations\")\n",
        "    print(\"Please check the repository structure\")\n",
        "\n",
        "    # Show current directory structure\n",
        "    print(\"\\nCurrent files:\")\n",
        "    for item in os.listdir('.'):\n",
        "        if item.endswith('.py'):\n",
        "            print(f\"🐍 {item}\")\n",
        "        elif os.path.isdir(item):\n",
        "            print(f\"📁 {item}/\")\n",
        "\n",
        "# Note: We don't run streamlit directly in the notebook as it would block execution"
      ],
      "metadata": {
        "id": "rMP13lOn2q0z"
      },
      "outputs": [],
      "execution_count": null
    },
    {
      "cell_type": "markdown",
      "source": [
        "## 4. Troubleshooting & Next Steps\n",
        "\n",
        "Here are some common issues and solutions:"
      ],
      "metadata": {
        "id": "Pxw7dPtN2q00"
      }
    },
    {
      "cell_type": "code",
      "source": [
        "# Troubleshooting helper\n",
        "def run_diagnostics():\n",
        "    \"\"\"Run basic diagnostics for common issues\"\"\"\n",
        "    print(\"🔍 Running Pinthenews Diagnostics...\")\n",
        "    print(\"=\"*50)\n",
        "\n",
        "    # Check Python version\n",
        "    import sys\n",
        "    print(f\"Python version: {sys.version}\")\n",
        "\n",
        "    # Check current directory\n",
        "    import os\n",
        "    print(f\"Current directory: {os.getcwd()}\")\n",
        "\n",
        "    # Check for key files\n",
        "    key_files = ['.env', 'requirements.txt', 'src/app.py', 'src/location_extractor.py']\n",
        "    for file in key_files:\n",
        "        if os.path.exists(file):\n",
        "            print(f\"✅ {file}\")\n",
        "        else:\n",
        "            print(f\"❌ {file} - Missing\")\n",
        "\n",
        "    # Check for API key\n",
        "    from dotenv import load_dotenv\n",
        "    load_dotenv()\n",
        "    api_key = os.getenv('ANTHROPIC_API_KEY')\n",
        "    if api_key:\n",
        "        print(f\"✅ API key configured (length: {len(api_key)})\")\n",
        "    else:\n",
        "        print(\"❌ No API key found in environment\")\n",
        "\n",
        "    # Check installed packages\n",
        "    try:\n",
        "        import streamlit\n",
        "        print(f\"✅ Streamlit version: {streamlit.__version__}\")\n",
        "    except ImportError:\n",
        "        print(\"❌ Streamlit not installed\")\n",
        "\n",
        "    try:\n",
        "        import anthropic\n",
        "        print(f\"✅ Anthropic SDK available\")\n",
        "    except ImportError:\n",
        "        print(\"❌ Anthropic SDK not installed\")\n",
        "\n",
        "    print(\"=\"*50)\n",
        "    print(\"Diagnostics complete!\")\n",
        "\n",
        "# Run diagnostics\n",
        "run_diagnostics()"
      ],
      "metadata": {
        "id": "88sMq2z32q00"
      },
      "outputs": [],
      "execution_count": null
    }
  ],
  "metadata": {
    "kernelspec": {
      "display_name": "Python 3",
      "language": "python",
      "name": "python3"
    },
    "language_info": {
      "name": "python",
      "version": "3.8.0"
    },
    "colab": {
      "provenance": []
    }
  },
  "nbformat": 4,
  "nbformat_minor": 0
}